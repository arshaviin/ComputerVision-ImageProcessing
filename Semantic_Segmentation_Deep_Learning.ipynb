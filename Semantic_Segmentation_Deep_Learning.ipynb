{
  "cells": [
    {
      "cell_type": "markdown",
      "metadata": {
        "id": "XrrDvpLFsdza"
      },
      "source": [
        "# Semantic segmentation with Deep Learning\n",
        "Centrale Nantes\n",
        "\n",
        "Diana Mateus"
      ]
    },
    {
      "cell_type": "markdown",
      "metadata": {
        "id": "Uncs1DSCsdzc"
      },
      "source": [
        "### Introduction"
      ]
    },
    {
      "cell_type": "markdown",
      "metadata": {
        "id": "WCycI20csdzd"
      },
      "source": [
        "In many areas of biomedical research, cell counts obtained from images are crucial data for diagnosing patients or for addressing hypotheses about developmental or pathological processes. Although the field changes reapidly, many cell counts are still done manually or with semi-automatic tools. An automatic tool can therefore save time, reduce variability, and improve results. In this notebook we will model the problem in terms of semantic segmentation and approach it by means of deep learning, and more specifically with the U-Net architecture."
      ]
    },
    {
      "cell_type": "markdown",
      "metadata": {
        "id": "9O8ZLTAAsdzk"
      },
      "source": [
        "### 1. Load modules and data"
      ]
    },
    {
      "cell_type": "markdown",
      "metadata": {
        "id": "JiYmEPldsdzl"
      },
      "source": [
        "#### 1.1 Import modules"
      ]
    },
    {
      "cell_type": "code",
      "execution_count": null,
      "metadata": {
        "colab": {
          "base_uri": "https://localhost:8080/"
        },
        "id": "EtzrnQ_Usdzl",
        "outputId": "87055bdf-d86b-4ea5-fc7c-016d2db22c23"
      },
      "outputs": [
        {
          "name": "stdout",
          "output_type": "stream",
          "text": [
            "Python       : 3.9.13 (main, Aug 25 2022, 23:51:50) [MSC v.1916 64 bit (AMD64)]\n",
            "Numpy        : 1.21.5\n",
            "Skimage      : 0.19.2\n",
            "Scikit-learn : 1.0.2\n",
            "Tensorflow   : 2.9.1\n"
          ]
        }
      ],
      "source": [
        "#4S\n",
        "# Import all the necessary libraries\n",
        "import os\n",
        "import datetime\n",
        "import glob                                           #filename pattern matching\n",
        "import random\n",
        "import sys\n",
        "import numpy as np\n",
        "import pandas as pd\n",
        "import matplotlib.pyplot as plt\n",
        "\n",
        "#SKIMAGE\n",
        "import skimage.io                                     #Used for imshow function\n",
        "import skimage.transform                              #Used for resize function\n",
        "import skimage.exposure                               #Used for displaying\n",
        "\n",
        "#Tensorflow, Keras and related modules\n",
        "import tensorflow as tf\n",
        "from tensorflow.keras.layers import Input, Dense, Activation, ZeroPadding2D, BatchNormalization, Flatten, Conv2D, Conv2DTranspose\n",
        "from tensorflow.keras.layers import AveragePooling2D, MaxPooling2D, Dropout, GlobalMaxPooling2D, GlobalAveragePooling2D\n",
        "from tensorflow.keras.losses import binary_crossentropy\n",
        "from tensorflow.keras.layers import add, concatenate\n",
        "from tensorflow.keras.callbacks import History\n",
        "\n",
        "#To save and reload models\n",
        "from tensorflow.keras.models import load_model, Model\n",
        "from tensorflow.keras.utils import  plot_model\n",
        "\n",
        "\n",
        "#Sklearn\n",
        "import sklearn\n",
        "from sklearn.model_selection import train_test_split\n",
        "\n",
        "print('Python       :', sys.version.split('\\n')[0])\n",
        "print('Numpy        :', np.__version__)\n",
        "print('Skimage      :', skimage.__version__)\n",
        "print('Scikit-learn :', sklearn.__version__)\n",
        "print('Tensorflow   :', tf.__version__)"
      ]
    },
    {
      "cell_type": "markdown",
      "metadata": {
        "id": "3_e4LIzasdzs"
      },
      "source": [
        "#### 1.2 Import data\n",
        "Download data from\n",
        "\n",
        "- https://box.ec-nantes.fr/index.php/s/X84Bq5NYJ2zJRpR (small dataset to begin with)\n",
        "- https://box.ec-nantes.fr/index.php/s/oXAx37DbpXPDF7T (larger dataset for final tests single zip -> good internet connection)"
      ]
    },
    {
      "cell_type": "markdown",
      "metadata": {
        "id": "sTGfl__Lsdzs"
      },
      "source": [
        "#### 1.3 Define the data path\n",
        "Define the data path and change the directory to the defined topDir. Also specify the train and test directories"
      ]
    },
    {
      "cell_type": "code",
      "execution_count": null,
      "metadata": {
        "id": "LIjJYzPSi5hw"
      },
      "outputs": [],
      "source": [
        "#In case using colab\n",
        "#from google.colab import drive\n",
        "#drive.mount('/content/drive')"
      ]
    },
    {
      "cell_type": "code",
      "execution_count": null,
      "metadata": {
        "colab": {
          "base_uri": "https://localhost:8080/"
        },
        "id": "mx8bDZs0sdzt",
        "outputId": "58f4d13e-37a7-4665-9a66-756dc3e97b21"
      },
      "outputs": [
        {
          "name": "stdout",
          "output_type": "stream",
          "text": [
            "['stage1_test', 'stage1_train']\n"
          ]
        }
      ],
      "source": [
        "#4S\n",
        "topDir = \"C:\\\\Users\\\\hatim\\\\Downloads\\\\apsta segmentation\"\n",
        "#topDir = \"/content/drive/MyDrive/TP-image-segmentation/\"\n",
        "os.chdir(topDir)\n",
        "print(os.listdir(os.path.join(topDir, 'miniinput')))  #see what's in the input folder (where data is in)\n",
        "train_path = os.path.join(topDir, 'miniinput/stage1_train')  #path to training data file/folder\n",
        "test_path = os.path.join(topDir, 'miniinput/stage1_test')   #path to test data file/folder"
      ]
    },
    {
      "cell_type": "markdown",
      "metadata": {
        "id": "IGG4SHF6sdzo"
      },
      "source": [
        "#### 1.4 Define global parameters\n",
        "- Set seed for random values to a fix number (suggested: 42) to ensure that images are associated to the exactly corresponding masks .\n",
        "- Define the desired image size as two global parameters:\n",
        "``` img_height, img_width ```.\n",
        "The defalut image size  is (64,64). You may want to reduce size for faster **debugging** or increase it (e.g. 256,256) for better results"
      ]
    },
    {
      "cell_type": "code",
      "execution_count": null,
      "metadata": {
        "id": "VZzFalvSsdzp"
      },
      "outputs": [],
      "source": [
        "#4S\n",
        "# Set seed values\n",
        "seed = 42\n",
        "random.seed = seed\n",
        "np.random.seed(seed=seed)\n",
        "\n",
        "# Set number of GPUs\n",
        "#num_gpus = 1   #defaults to 1 if one-GPU or one-CPU. If 4 GPUs, set to 4.\n",
        "\n",
        "# Set height (y-axis length) and width (x-axis length) to train model on\n",
        "img_height, img_width = (64,64)  #Default to (256,266), use (None,None) if you do not want to resize imgs"
      ]
    },
    {
      "cell_type": "markdown",
      "metadata": {
        "id": "tIQp5Y25sdzv"
      },
      "source": [
        "#### 1.5 Read and preload the input image data\n",
        "Read the data and create a tensor containing all the train and test data as well as their corresponding labels.\n",
        "\n",
        "The following function ``get_images``  \n",
        "- receives as input an image path (can be train or test), and a desired image shape for the output\n",
        "- lists all files in the input image path.\n",
        "- reads each of the files with ``skimage.io.imread``\n",
        "- uses ``skimage.transform.resize`` to directly downsample the images according to the ``img_height, img_width`` parameters.\n",
        "- uses only the first three channels of the images.\n",
        "- returns a numpy array (matrix) .\n",
        "- uses ``%%time`` to display the time spent in loading.\n",
        "\n",
        "Run the function and print the shape and type of the resulting array (e.g. (670, 256, 256, 3) uint8"
      ]
    },
    {
      "cell_type": "code",
      "execution_count": null,
      "metadata": {
        "colab": {
          "base_uri": "https://localhost:8080/"
        },
        "id": "UX8fjX7tsdzw",
        "outputId": "1d04ef7f-e380-4dd9-c0e0-03903e58046b",
        "scrolled": true
      },
      "outputs": [
        {
          "name": "stdout",
          "output_type": "stream",
          "text": [
            "(50, 64, 64, 3) uint8\n",
            "Wall time: 1.71 s\n"
          ]
        }
      ],
      "source": [
        "%%time\n",
        "# Get training data\n",
        "def get_images(path, output_shape=(None, None)):\n",
        "    '''\n",
        "    Loads images from path/{id}/images/{id}.png into a numpy array\n",
        "    '''\n",
        "    img_paths = ['{0}/{1}/images/{1}.png'.format(path, id) for id in os.listdir(path) if id != \".DS_Store\"]\n",
        "\n",
        "    #X_data = np.array([skimage.io.imread(path)[:,:,:3] for path in img_paths], dtype=np.uint8)  #take only 3 channels/bands\n",
        "\n",
        "    X_data = np.array([skimage.transform.resize(skimage.io.imread(path)[:,:,:3], output_shape=output_shape, mode='constant', preserve_range=True) for path in img_paths], dtype=np.uint8)  #take only 3 channels/bands\n",
        "\n",
        "    return X_data\n",
        "\n",
        "X_train = get_images(train_path, output_shape=(img_height,img_width))\n",
        "\n",
        "print(X_train.shape, X_train.dtype)\n",
        "\n"
      ]
    },
    {
      "cell_type": "markdown",
      "metadata": {
        "id": "FA6t662nnzPv"
      },
      "source": [
        "## This is an order 4 tensor with all the images layered in the first axis, it does not affect the model since there will just be an empty dimension in the tensors we deal with."
      ]
    },
    {
      "cell_type": "markdown",
      "metadata": {
        "id": "wvJ8CGbtsdzy"
      },
      "source": [
        "#### 1.6 Read and preload the expert annotation masks\n",
        "The following function ``get_labels``  \n",
        "- receives as input a mask path (can be train or test), and a desired image shape for the output.\n",
        "- lists all files in the input path. Hint: use ``os.listdir``.\n",
        "- reads each of the files with ``skimage.io.imread``\n",
        "- uses ``skimage.transform.resize`` to directly downsample the masks according to the ``img_height, img_width`` parameters.\n",
        "- returns a numpy array (matrix) . Hint: define an ``np.array`` of type ``dtype=np.uint8`` to stock the data.\n",
        "- uses ``%%time`` to display the time spent in loading.\n",
        "- Runs the function and print the shape and type of the resulting array (e.g. (670, 256, 256, 3)) uint8\n",
        "- This can take some minutes (reduce the number of images to accelerate the first tests and reduce memory demands if necessary)"
      ]
    },
    {
      "cell_type": "code",
      "execution_count": null,
      "metadata": {
        "colab": {
          "base_uri": "https://localhost:8080/"
        },
        "id": "eXsdGWFGsdzz",
        "outputId": "6f7788de-dda3-4419-c3e3-28004d79fa38"
      },
      "outputs": [
        {
          "name": "stdout",
          "output_type": "stream",
          "text": [
            "We have 50 labeled images of size (64,64) and type float32\n",
            "Wall time: 14.3 s\n"
          ]
        },
        {
          "name": "stderr",
          "output_type": "stream",
          "text": [
            "<timed exec>:16: DeprecationWarning: `np.bool` is a deprecated alias for the builtin `bool`. To silence this warning, use `bool` by itself. Doing this will not modify any behavior and is safe. If you specifically wanted the numpy scalar type, use `np.bool_` here.\n",
            "Deprecated in NumPy 1.20; for more details and guidance: https://numpy.org/devdocs/release/1.20.0-notes.html#deprecations\n"
          ]
        }
      ],
      "source": [
        "%%time\n",
        "# Get training data labels\n",
        "def get_labels(path, output_shape=(None, None)):\n",
        "    '''\n",
        "    Loads and concatenates images from path/{id}/masks/{id}.png into a numpy array\n",
        "    '''\n",
        "    img_paths = [glob.glob('{0}/{1}/masks/*.png'.format(path, id)) for id in os.listdir(path) if id != \".DS_Store\"]\n",
        "\n",
        "    Y_data = []\n",
        "    for i, img_masks in enumerate(img_paths):  #loop through each individual nuclei for an image and combine them together\n",
        "        masks = skimage.io.imread_collection(img_masks).concatenate()  #masks.shape = (num_masks, img_height, img_width)\n",
        "        mask = np.max(masks, axis=0)                                   #mask.shape = (img_height, img_width)\n",
        "        mask = skimage.transform.resize(mask, output_shape=output_shape+(1,), mode='constant', preserve_range=True)  #need to add an extra dimension so mask.shape = (img_height, img_width, 1)\n",
        "        Y_data.append(mask)\n",
        "\n",
        "    # make sure to return the binary images but coded as floats to be compatible with the loss functions\n",
        "    Y_data = np.array(Y_data, dtype=np.bool)\n",
        "\n",
        "    return Y_data\n",
        "\n",
        "Y_train = get_labels(train_path, output_shape=(img_height,img_width))\n",
        "Y_train = Y_train.astype(np.float32)\n",
        "print(\"We have {} labeled images of size ({},{}) and type {}\".format(Y_train.shape[0],Y_train.shape[1],Y_train.shape[2],Y_train.dtype))\n",
        "\n",
        "\n"
      ]
    },
    {
      "cell_type": "markdown",
      "metadata": {
        "id": "LSC-arG7sdz1"
      },
      "source": [
        "#### 1.7 Visualize some examples of images and matching labels\n",
        "Choose one index among the lists of images and labels and use ``plt.imshow`` to visualize side by side the corresponding image and mask.\n",
        "You may want to use ```skimage.exposure.rescale_intensity``` for better visualization of the input."
      ]
    },
    {
      "cell_type": "code",
      "execution_count": null,
      "metadata": {
        "colab": {
          "base_uri": "https://localhost:8080/",
          "height": 254
        },
        "id": "yu-ctAxqRx4b",
        "outputId": "677c5645-9198-446a-df42-76dc1ecc0bb1"
      },
      "outputs": [
        {
          "name": "stdout",
          "output_type": "stream",
          "text": [
            "Looking at image  44\n"
          ]
        },
        {
          "data": {
            "text/plain": [
              "Text(0.5, 1.0, 'mask')"
            ]
          },
          "execution_count": 199,
          "metadata": {},
          "output_type": "execute_result"
        },
        {
          "data": {
            "image/png": "[encoded data removed]",
            "text/plain": [
              "<Figure size 640x480 with 2 Axes>"
            ]
          },
          "metadata": {},
          "output_type": "display_data"
        }
      ],
      "source": [
        "%matplotlib inline\n",
        "\n",
        "idx = np.random.randint(Y_train.shape[0], size=1)[0]\n",
        "\n",
        "\n",
        "print ('Looking at image ', idx)\n",
        "\n",
        "plt.subplot(1,2,1)\n",
        "plt.imshow(skimage.exposure.rescale_intensity(X_train[idx, :, :, :]))\n",
        "plt.title('input image')\n",
        "plt.subplot(1,2,2)\n",
        "plt.imshow(Y_train[idx, :, :],cmap='gray')\n",
        "plt.title('mask')\n"
      ]
    },
    {
      "cell_type": "markdown",
      "metadata": {
        "id": "Iam7zECHnzPw"
      },
      "source": [
        "## The mask depicts spots that are always larger than what the human eye considers as a separate element. This causes a lot of neighbour elements to form a large blob. So this is not ideal if we would want to count the number of elements. But the masks are representative of the input image."
      ]
    },
    {
      "cell_type": "markdown",
      "metadata": {
        "id": "GbTsuLoVsdz4"
      },
      "source": [
        "### 2. Buidling the U-Net model\n",
        "#### 2.1. Define the architecture\n",
        "\n",
        "The u-net is composed of an input layer, an encoder and a decoder. Both the encoder and deconder consists of several blocks with similar structure but different dimensions. Each encoder blocks is composed of two convolutional layers of the same dimensions with a pooling and an activation function. With pooling operations, the 2D dimensions of the image are progressively reduced; to compensate the number of filters (or equivalently of feature channels) in each block is increased. The decoder reverses the operations of the encoder. Finally skip connections are created between the encoder and the decoder. To make these connections  it is useful to create a list pointing to the output of each encoder block as well as a list pointing to the output of each decoder block."
      ]
    },
    {
      "cell_type": "markdown",
      "metadata": {
        "id": "dvSy-Vq2sdz5"
      },
      "source": [
        "**a)** Building the model\n",
        "- Create a function ```model``` that receives as input the image size\n",
        "- Start by predefining as parameters within the function\n",
        "    - the number of kernels/feature channels per block. Usually they have increasing powers of 2. For instance, ```n_channels=[16,32,64,128,256]```\n",
        "    - a global kernel size ```(3,3)```\n",
        "    - a weight initialization method (try `he_normal`)\n",
        "- Create an input layer using the Keras function ``Input`` , the shape should match the the image dimensions.\n",
        "- Declare the encoder blocks each composed of:\n",
        "    - two convolutional layers. Use ``Conv2D``.\n",
        "    - one maxpool layer (except for the last block). Use ``MaxPooling2D``\n",
        "    - use relu activations\n",
        "    - create a list pointing to each of the encoder blocks to be able to refer to them later while creating the skip connections\n",
        "    - **Hint** Define one block of convolution+pool+relu then create a loop to iterate over the different blocks\n",
        "\n",
        "- Define the decoder blocks each composed of:\n",
        "    - one Transpose convolution layer.\n",
        "    - two convolutional layers.\n",
        "    - use relu activations\n",
        "    - create a list with pointing to each encoder blocks to be able to refer to them later the skip connections\n",
        "    - **Hint** Define one block of transposed convolution+conv+relu then create a loop to iterate over the different blocks\n",
        "\n",
        "\n",
        "- The output layer should be a Transpose convolution layer with a 'sigmoid' activatin and a 'glorot_normal' initialization\n",
        "\n",
        "- Use the lists created above to create the skip connections\n",
        "    - connecting for each resolution the output of the encoder blocks to the input of the decoder blocks.\n",
        "\n",
        "- Use the keras function ``Model`` to identify this function as the architecture and use the output of ```Model``` as the return value of the unet_model function\n"
      ]
    },
    {
      "cell_type": "code",
      "execution_count": null,
      "metadata": {
        "id": "o6cLx3-nsdz6"
      },
      "outputs": [],
      "source": [
        "def unet_model(img_width=64, img_height=64):\n",
        "\n",
        "    #define the architecture parameters\n",
        "    n_channels = [16,32,64,128,256]  #the number of kernels/feature channels per block\n",
        "    k_size = (3, 3)                  #size of filter kernel\n",
        "    k_init = 'he_normal'             #kernel initializer\n",
        "    encoder_list = []\n",
        "    decoder_list = []\n",
        "    copies = {} #for copies and crops\n",
        "\n",
        "    # Use Keras Input layer to create one\n",
        "    inp0 = tf.keras.layers.Input(shape=(img_width,img_height,3))\n",
        "    inp = inp0\n",
        "    # Encoder\n",
        "    for n in n_channels:\n",
        "        enc = tf.keras.layers.Conv2D(filters =n,kernel_size = k_size, kernel_initializer=k_init,activation='tanh',padding=\"same\")(inp)\n",
        "        enc2 = tf.keras.layers.Conv2D(filters =n,kernel_size = k_size, kernel_initializer=k_init,activation='tanh',padding=\"same\")(enc)\n",
        "        if n!= 256:\n",
        "            mp = tf.keras.layers.MaxPooling2D(pool_size=(2,2),padding=\"same\")(enc2)\n",
        "            copies[n] = inp\n",
        "            inp = mp\n",
        "    encoder_list.append(enc2)\n",
        "\n",
        "    # Decoder\n",
        "    for n in n_channels[::-1]:\n",
        "        if n != 16:\n",
        "            dec0 = tf.keras.layers.Conv2DTranspose(strides=(2,2),filters=n,kernel_size = k_size, kernel_initializer=k_init,activation='relu',padding=\"same\")(mp)\n",
        "        elif n != 256: #copie sans besoin de crop\n",
        "            dec0 = tf.keras.layers.Concatenate(axis=3)([copies[n], dec0])\n",
        "        else: dec0 = mp\n",
        "        dec1 = tf.keras.layers.Conv2D(filters =n,kernel_size = k_size, kernel_initializer=k_init,activation='tanh',padding=\"same\")(dec0)\n",
        "        dec2 = tf.keras.layers.Conv2D(filters =n,kernel_size = k_size, kernel_initializer=k_init,activation='tanh',padding=\"same\")(dec1)\n",
        "        mp = dec2\n",
        "\n",
        "    decoder_list.append(mp)\n",
        "    # Output\n",
        "\n",
        "    outp = tf.keras.layers.Conv2DTranspose(strides=(1,1),filters =1,kernel_size = k_size, kernel_initializer='glorot_normal',activation='sigmoid',padding=\"same\")(dec2)\n",
        "\n",
        "    #Build Model with the architecture\n",
        "    model = Model(inputs=[inp0], outputs=[outp])\n",
        "\n",
        "    return model"
      ]
    },
    {
      "cell_type": "markdown",
      "metadata": {
        "id": "Z-ip9xJvsdz8"
      },
      "source": [
        "#### 2.2. Define the losses\n",
        "\n",
        "Define and explain how to use the Dice coefficient and the binarry crossentropy as loss and metrics for the segmentation. Create a costum dice loss that is a weighted average between the two"
      ]
    },
    {
      "cell_type": "code",
      "execution_count": null,
      "metadata": {
        "id": "nRz2dP4_sdz9"
      },
      "outputs": [],
      "source": [
        "from tensorflow.keras import backend as K\n",
        "\n",
        "def dice_coef(y_true, y_pred):\n",
        "    inter = y_true*y_pred\n",
        "\n",
        "\n",
        "    score = 2*tf.math.reduce_sum(inter)/(tf.math.reduce_sum(y_true)+tf.math.reduce_sum(y_pred))\n",
        "\n",
        "    return score\n",
        "\n",
        "def dice_loss(y_true, y_pred):\n",
        "    inter = y_true*y_pred\n",
        "    loss = 1 - (2*tf.math.reduce_sum(inter)/(tf.math.reduce_sum(y_true**2)+tf.math.reduce_sum(y_pred**2)))\n",
        "\n",
        "    return loss\n",
        "\n",
        "def crossentropy(y_true,y_pred):\n",
        "    train = y_true\n",
        "    pred = y_pred\n",
        "    n = tf.size(train)\n",
        "    n = tf.cast(n,'float32')\n",
        "    cost = tf.math.reduce_sum(train*tf.math.log(pred+1e-6)+(1-train)*tf.math.log(1-pred+1e-6))\n",
        "    return -1*cost/n\n",
        "\n",
        "\n",
        "\n",
        "\n",
        "def costum_dice_loss(y_true, y_pred):\n",
        "    #a,b = K.theano.shared(y_true),K.theano.shared(y_pred)\n",
        "    print(y_true.dtype,y_pred.dtype)\n",
        "    return 0.5*dice_loss(y_true, y_pred)+0.5*crossentropy(y_true,y_pred)"
      ]
    },
    {
      "cell_type": "markdown",
      "metadata": {
        "id": "0bJO4Nzjsdz_"
      },
      "source": [
        "#### 2.3 Define the optimizer"
      ]
    },
    {
      "cell_type": "code",
      "execution_count": null,
      "metadata": {
        "id": "n3bINJ0Tsd0A"
      },
      "outputs": [],
      "source": [
        "# Set optmizer, loss and metric\n",
        "optimizer = 'adam'\n",
        "loss      = costum_dice_loss\n",
        "metrics   = ['acc']\n"
      ]
    },
    {
      "cell_type": "markdown",
      "metadata": {
        "id": "Bi22QZNisd0C"
      },
      "source": [
        "#### 2.4 Compile the model"
      ]
    },
    {
      "cell_type": "code",
      "execution_count": null,
      "metadata": {
        "colab": {
          "base_uri": "https://localhost:8080/"
        },
        "id": "lLERRYRnsd0D",
        "outputId": "49d1e796-6291-4597-8383-dba8e299806d",
        "scrolled": false
      },
      "outputs": [
        {
          "name": "stdout",
          "output_type": "stream",
          "text": [
            "Model: \"model_5\"\n",
            "__________________________________________________________________________________________________\n",
            " Layer (type)                   Output Shape         Param #     Connected to                     \n",
            "==================================================================================================\n",
            " input_11 (InputLayer)          [(None, 64, 64, 3)]  0           []                               \n",
            "                                                                                                  \n",
            " conv2d_148 (Conv2D)            (None, 64, 64, 16)   448         ['input_11[0][0]']               \n",
            "                                                                                                  \n",
            " conv2d_149 (Conv2D)            (None, 64, 64, 16)   2320        ['conv2d_148[0][0]']             \n",
            "                                                                                                  \n",
            " max_pooling2d_36 (MaxPooling2D  (None, 32, 32, 16)  0           ['conv2d_149[0][0]']             \n",
            " )                                                                                                \n",
            "                                                                                                  \n",
            " conv2d_150 (Conv2D)            (None, 32, 32, 32)   4640        ['max_pooling2d_36[0][0]']       \n",
            "                                                                                                  \n",
            " conv2d_151 (Conv2D)            (None, 32, 32, 32)   9248        ['conv2d_150[0][0]']             \n",
            "                                                                                                  \n",
            " max_pooling2d_37 (MaxPooling2D  (None, 16, 16, 32)  0           ['conv2d_151[0][0]']             \n",
            " )                                                                                                \n",
            "                                                                                                  \n",
            " conv2d_152 (Conv2D)            (None, 16, 16, 64)   18496       ['max_pooling2d_37[0][0]']       \n",
            "                                                                                                  \n",
            " conv2d_153 (Conv2D)            (None, 16, 16, 64)   36928       ['conv2d_152[0][0]']             \n",
            "                                                                                                  \n",
            " max_pooling2d_38 (MaxPooling2D  (None, 8, 8, 64)    0           ['conv2d_153[0][0]']             \n",
            " )                                                                                                \n",
            "                                                                                                  \n",
            " conv2d_154 (Conv2D)            (None, 8, 8, 128)    73856       ['max_pooling2d_38[0][0]']       \n",
            "                                                                                                  \n",
            " conv2d_155 (Conv2D)            (None, 8, 8, 128)    147584      ['conv2d_154[0][0]']             \n",
            "                                                                                                  \n",
            " max_pooling2d_39 (MaxPooling2D  (None, 4, 4, 128)   0           ['conv2d_155[0][0]']             \n",
            " )                                                                                                \n",
            "                                                                                                  \n",
            " conv2d_transpose_32 (Conv2DTra  (None, 8, 8, 256)   295168      ['max_pooling2d_39[0][0]']       \n",
            " nspose)                                                                                          \n",
            "                                                                                                  \n",
            " conv2d_158 (Conv2D)            (None, 8, 8, 256)    590080      ['conv2d_transpose_32[0][0]']    \n",
            "                                                                                                  \n",
            " conv2d_159 (Conv2D)            (None, 8, 8, 256)    590080      ['conv2d_158[0][0]']             \n",
            "                                                                                                  \n",
            " conv2d_transpose_33 (Conv2DTra  (None, 16, 16, 128)  295040     ['conv2d_159[0][0]']             \n",
            " nspose)                                                                                          \n",
            "                                                                                                  \n",
            " conv2d_160 (Conv2D)            (None, 16, 16, 128)  147584      ['conv2d_transpose_33[0][0]']    \n",
            "                                                                                                  \n",
            " conv2d_161 (Conv2D)            (None, 16, 16, 128)  147584      ['conv2d_160[0][0]']             \n",
            "                                                                                                  \n",
            " conv2d_transpose_34 (Conv2DTra  (None, 32, 32, 64)  73792       ['conv2d_161[0][0]']             \n",
            " nspose)                                                                                          \n",
            "                                                                                                  \n",
            " conv2d_162 (Conv2D)            (None, 32, 32, 64)   36928       ['conv2d_transpose_34[0][0]']    \n",
            "                                                                                                  \n",
            " conv2d_163 (Conv2D)            (None, 32, 32, 64)   36928       ['conv2d_162[0][0]']             \n",
            "                                                                                                  \n",
            " conv2d_transpose_35 (Conv2DTra  (None, 64, 64, 32)  18464       ['conv2d_163[0][0]']             \n",
            " nspose)                                                                                          \n",
            "                                                                                                  \n",
            " concatenate_11 (Concatenate)   (None, 64, 64, 35)   0           ['input_11[0][0]',               \n",
            "                                                                  'conv2d_transpose_35[0][0]']    \n",
            "                                                                                                  \n",
            " conv2d_166 (Conv2D)            (None, 64, 64, 16)   5056        ['concatenate_11[0][0]']         \n",
            "                                                                                                  \n",
            " conv2d_167 (Conv2D)            (None, 64, 64, 16)   2320        ['conv2d_166[0][0]']             \n",
            "                                                                                                  \n",
            " conv2d_transpose_36 (Conv2DTra  (None, 64, 64, 1)   145         ['conv2d_167[0][0]']             \n",
            " nspose)                                                                                          \n",
            "                                                                                                  \n",
            "==================================================================================================\n",
            "Total params: 2,532,689\n",
            "Trainable params: 2,532,689\n",
            "Non-trainable params: 0\n",
            "__________________________________________________________________________________________________\n"
          ]
        }
      ],
      "source": [
        "#instantiate the model\n",
        "\n",
        "model = unet_model(64,64)\n",
        "\n",
        "#summary\n",
        "model.summary()\n",
        "#compile the model\n",
        "\n",
        "model.compile(optimizer=optimizer,loss=loss,metrics=metrics)"
      ]
    },
    {
      "cell_type": "code",
      "execution_count": null,
      "metadata": {
        "colab": {
          "base_uri": "https://localhost:8080/",
          "height": 1000
        },
        "id": "vJrSrWN_B6_O",
        "outputId": "c163dbd0-ce90-42b1-81ec-0212cd834959"
      },
      "outputs": [
        {
          "name": "stdout",
          "output_type": "stream",
          "text": [
            "You must install pydot (`pip install pydot`) and install graphviz (see instructions at https://graphviz.gitlab.io/download/) for plot_model/model_to_dot to work.\n"
          ]
        }
      ],
      "source": [
        "#run the following cell to visualize the created model\n",
        "l = []\n",
        "from tensorflow.keras.utils import plot_model\n",
        "plot_model(model, to_file='model.png')"
      ]
    },
    {
      "cell_type": "markdown",
      "metadata": {
        "id": "5vFi09AEsd0F"
      },
      "source": [
        "### 3. Trainning and testing"
      ]
    },
    {
      "cell_type": "markdown",
      "metadata": {
        "id": "7UYoVsH6sd0F"
      },
      "source": [
        "#### 3.1 Launch the training\n",
        "- Use the ```model.fit``` function to launc the training,\n",
        "- save the output of the model.fit which provides the history of the training results.\n",
        "- Measure the overall time with ```%%time``` at the beginning of the notebook cell\n"
      ]
    },
    {
      "cell_type": "code",
      "execution_count": null,
      "metadata": {
        "id": "hVXbkekhnzPy",
        "outputId": "fb5e50cc-ed80-48ac-8ad1-cc52996ccd03"
      },
      "outputs": [
        {
          "name": "stdout",
          "output_type": "stream",
          "text": [
            "WARNING:tensorflow:5 out of the last 5 calls to <function Model.make_predict_function.<locals>.predict_function at 0x000001E014FDC4C0> triggered tf.function retracing. Tracing is expensive and the excessive number of tracings could be due to (1) creating @tf.function repeatedly in a loop, (2) passing tensors with different shapes, (3) passing Python objects instead of tensors. For (1), please define your @tf.function outside of the loop. For (2), @tf.function has reduce_retracing=True option that can avoid unnecessary retracing. For (3), please refer to https://www.tensorflow.org/guide/function#controlling_retracing and https://www.tensorflow.org/api_docs/python/tf/function for  more details.\n",
            "1/1 [==============================] - 0s 316ms/step\n"
          ]
        }
      ],
      "source": [
        "X_test = get_images(test_path, output_shape=(img_height,img_width))\n",
        "Y_predict = model.predict(X_test)"
      ]
    },
    {
      "cell_type": "code",
      "execution_count": null,
      "metadata": {
        "id": "6NXX_fehsd0G",
        "scrolled": true
      },
      "outputs": [],
      "source": [
        "%%time\n",
        "# Fit model\n",
        "epochs= 120\n",
        "\n",
        "batch_size= 30\n",
        "history = model.fit(X_train,Y_train,batch_size=batch_size,epochs=epochs,verbose=1)\n",
        "np.save('my_history_TP_full.npy',history.history)\n"
      ]
    },
    {
      "cell_type": "markdown",
      "metadata": {
        "id": "44OigYFUnzPz"
      },
      "source": [
        "## The biggest changes occur in the first epochs, which is expected since it's the first times that each training element is seen."
      ]
    },
    {
      "cell_type": "code",
      "execution_count": null,
      "metadata": {
        "id": "zoxPOAkBnzPz"
      },
      "outputs": [],
      "source": [
        "#history=np.load('my_history_TP.npy',allow_pickle='TRUE').item()"
      ]
    },
    {
      "cell_type": "markdown",
      "metadata": {
        "id": "vdFjWK8psd0I"
      },
      "source": [
        "#### 3.2. Save the model\n",
        "Save the final model ``model_out.save_weights`` with an hdf5 format."
      ]
    },
    {
      "cell_type": "code",
      "execution_count": null,
      "metadata": {
        "id": "U7Yfy0M-nzPz"
      },
      "outputs": [],
      "source": [
        "model.save_weights('model1_weights_tanh.hdf5')\n"
      ]
    },
    {
      "cell_type": "markdown",
      "metadata": {
        "id": "rabffCUFnzPz"
      },
      "source": [
        "## The weight file is 10mB, considering how we started with 16 filters up to 256, instead of 64 up to 1024 like in the actual U-NET mode. It is kind of light when I compare this with the TASED-Net model I use in my PRTSI project that has a 80mB size for generating visual saliency maps from videos."
      ]
    },
    {
      "cell_type": "markdown",
      "metadata": {
        "id": "0WJwOUOcnzPz"
      },
      "source": [
        "#### 3.3. Plot the loss and the metrics\n",
        "\n",
        "from the output of the fit function"
      ]
    },
    {
      "cell_type": "code",
      "execution_count": null,
      "metadata": {
        "colab": {
          "base_uri": "https://localhost:8080/",
          "height": 283
        },
        "id": "DE9rN1ULsd0J",
        "outputId": "44365a34-0e85-4922-bd59-a858f08bd903"
      },
      "outputs": [
        {
          "data": {
            "text/plain": [
              "Text(0.5, 0, 'epochs')"
            ]
          },
          "execution_count": 138,
          "metadata": {},
          "output_type": "execute_result"
        },
        {
          "data": {
            "image/png": "[encoded data removed]",
            "text/plain": [
              "<Figure size 640x480 with 1 Axes>"
            ]
          },
          "metadata": {},
          "output_type": "display_data"
        }
      ],
      "source": [
        "plt.plot(history.history['loss'])\n",
        "plt.title(\"loss\")\n",
        "plt.xlabel(\"epochs\")"
      ]
    },
    {
      "cell_type": "code",
      "execution_count": null,
      "metadata": {
        "id": "MWoyIVVanzP0",
        "outputId": "68743cfb-3df7-4291-a84d-d18f7b3eeded"
      },
      "outputs": [
        {
          "data": {
            "text/plain": [
              "Text(0.5, 0, 'epochs')"
            ]
          },
          "execution_count": 139,
          "metadata": {},
          "output_type": "execute_result"
        },
        {
          "data": {
            "image/png": "[encoded data removed]",
            "text/plain": [
              "<Figure size 640x480 with 1 Axes>"
            ]
          },
          "metadata": {},
          "output_type": "display_data"
        }
      ],
      "source": [
        "plt.plot(history.history['acc'])\n",
        "plt.title(\"accuracy\")\n",
        "plt.xlabel(\"epochs\")"
      ]
    },
    {
      "cell_type": "markdown",
      "metadata": {
        "id": "1EfDpVgSnzP0"
      },
      "source": [
        "## We notice that the loss and accuracy functions are a lot more smoother with tanh activations than with ReLu. The duration for the training was approximately the same (around 1min10sec) for both activation functions."
      ]
    },
    {
      "cell_type": "markdown",
      "metadata": {
        "id": "rCb0RUyeilpj"
      },
      "source": [
        "#### 3.4. Test\n",
        "Load the test images, make predictions and visualize the predictions\n",
        "\n"
      ]
    },
    {
      "cell_type": "code",
      "execution_count": null,
      "metadata": {
        "id": "AN25h6izpJUQ"
      },
      "outputs": [],
      "source": [
        "# if required reload the model\n",
        "# model.load_weights('model1_weights.hdf5')"
      ]
    },
    {
      "cell_type": "code",
      "execution_count": null,
      "metadata": {
        "id": "uHP49cPdnzP1",
        "outputId": "e3d95853-b8af-4b8d-a52b-941e2c29c1ce"
      },
      "outputs": [
        {
          "name": "stdout",
          "output_type": "stream",
          "text": [
            "Looking at image  6\n"
          ]
        },
        {
          "data": {
            "text/plain": [
              "Text(0.5, 1.0, 'mask')"
            ]
          },
          "execution_count": 161,
          "metadata": {},
          "output_type": "execute_result"
        },
        {
          "data": {
            "image/png": "[encoded data removed]",
            "text/plain": [
              "<Figure size 640x480 with 2 Axes>"
            ]
          },
          "metadata": {},
          "output_type": "display_data"
        }
      ],
      "source": [
        "%matplotlib inline\n",
        "\n",
        "idx = np.random.randint(Y_predict.shape[0], size=1)[0]\n",
        "\n",
        "\n",
        "print ('Looking at image ', idx)\n",
        "\n",
        "plt.subplot(1,2,1)\n",
        "plt.imshow(skimage.exposure.rescale_intensity(X_test[idx, :, :, :]))\n",
        "plt.title('input image')\n",
        "plt.subplot(1,2,2)\n",
        "plt.imshow(Y_train[idx, :, :],cmap='gray')\n",
        "plt.title('mask')\n"
      ]
    },
    {
      "cell_type": "markdown",
      "metadata": {
        "id": "yJmViSyWnzP1"
      },
      "source": [
        "## The predictions are very far from what we would expect, despite training the model to a sufficient extent where the loss would stop decreasing. So by looking at the curves there is no underfitting and the accuracy got to 93%. Even if it not the only metric one should rely on the results are very far from being enough."
      ]
    },
    {
      "cell_type": "markdown",
      "metadata": {
        "id": "ZhwiysvFnzP1"
      },
      "source": [
        "## For example in image 1 there is only one correct spot in the mask, all the other ones are completely miss the target. It is not a matter of symmetry because even if we would flip the mask it would make a bit more sense but not quite."
      ]
    },
    {
      "cell_type": "markdown",
      "metadata": {
        "id": "mo7QFwjFnzP1"
      },
      "source": [
        "## As for image 9, there are lots of spots all over in the mask, so the accuracy is not that bad since in the input image there a lot of cells, but the specificity would be terrible here."
      ]
    },
    {
      "cell_type": "markdown",
      "metadata": {
        "id": "13Ndj347nzP1"
      },
      "source": [
        "## In image 6 the specificity would also be bad, but the sensitivity would be decent here."
      ]
    },
    {
      "cell_type": "markdown",
      "metadata": {
        "id": "P1PZarbjnzP1"
      },
      "source": [
        "## In the end the masks are overall not doing the task we wanted them to. This does not get noticeably better when we use ReLu instead of tanh activations."
      ]
    },
    {
      "cell_type": "markdown",
      "metadata": {
        "id": "E72Ww_WWnzP2"
      },
      "source": [
        "## If I had to guess what went wrong with the model, I would probably see if the initial number of filters taht is 16 is too low to capture enough informations form the input image. I strongly doubt it has something to do with the padding since in the actual UNET architecture it seems that they use \"valid\" padding (no padding). I did not investigate any further or test this hypothesis."
      ]
    },
    {
      "cell_type": "markdown",
      "metadata": {
        "id": "ufYQjBNcnzP2"
      },
      "source": [
        "### 4 Comparison and Improvement\n",
        "\n",
        "Try making changes to improve the results. Do at least one of the following modifications\n",
        "- Change the architecture (use the one from the tf example, or add other types of layers (e.g. dropout) or non-linarities (e.g. leaky relu) and compare the training curves\n",
        "- add data augmentation (rotation, flip, translation of each image)\n",
        "- add an explicit validation set and ilustrate the intermediate results and metrics on the validation set\n",
        "- add data generators (to sample and augment data online)\n",
        "\n",
        "\n",
        "\n"
      ]
    },
    {
      "cell_type": "markdown",
      "metadata": {
        "id": "t048JikvnzP2"
      },
      "source": [
        "## We decided to go with the change of non linearity activation function, we replaced all the ReLu convolutions with hyperbolic tangent."
      ]
    }
  ],
  "metadata": {
    "colab": {
      "provenance": []
    },
    "kernelspec": {
      "display_name": "Python 3 (ipykernel)",
      "language": "python",
      "name": "python3"
    },
    "language_info": {
      "codemirror_mode": {
        "name": "ipython",
        "version": 3
      },
      "file_extension": ".py",
      "mimetype": "text/x-python",
      "name": "python",
      "nbconvert_exporter": "python",
      "pygments_lexer": "ipython3",
      "version": "3.9.13"
    }
  },
  "nbformat": 4,
  "nbformat_minor": 0
}
